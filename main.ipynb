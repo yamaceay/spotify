{
 "cells": [
  {
   "cell_type": "markdown",
   "metadata": {},
   "source": [
    "# IMPORTS, CLASSES, FUNCTIONS, AUTHENTICATION, SETUP"
   ]
  },
  {
   "cell_type": "code",
   "execution_count": 203,
   "metadata": {},
   "outputs": [],
   "source": [
    "from dotenv import load_dotenv\n",
    "import os\n",
    "load_dotenv()\n",
    "spotify_client_id = os.getenv(\"SPOTIFY_CLIENT_ID\")\n",
    "spotify_client_secret = os.getenv(\"SPOTIFY_CLIENT_SECRET\")\n",
    "import spotipy\n",
    "from spotipy.oauth2 import SpotifyClientCredentials\n",
    "spotify = spotipy.Spotify(client_credentials_manager=SpotifyClientCredentials(spotify_client_id, spotify_client_secret))\n",
    "import pandas as pd\n",
    "import numpy as np\n",
    "import re\n",
    "from pathlib import Path\n",
    "def tracks(track):\n",
    "    tracks_data = {}\n",
    "    audio_features_data = spotify.audio_features(track['id'])[0]\n",
    "    audio_features = {key: audio_features_data[key] for key in ['danceability', 'energy', 'key', 'loudness', 'mode', 'speechiness', 'acousticness', 'instrumentalness', 'liveness', 'valence', 'tempo', 'duration_ms']}\n",
    "    tracks_data.update(audio_features)\n",
    "    album_data = {key: track['album'][key] for key in ['release_date']}\n",
    "    artists_data = {\"artists\": [artist['name'] for artist in track['artists']]}\n",
    "    available_markets_data = spotify.album(track['album']['id'])['available_markets']\n",
    "    other_data = {key: track[key] for key in ['popularity', 'explicit', 'id', 'name']} \n",
    "    tracks_data.update(other_data)\n",
    "    tracks_data.update(album_data)\n",
    "    tracks_data.update(artists_data)\n",
    "    tracks_data.update({'available_markets': len(available_markets_data)})\n",
    "    return tracks_data\n",
    "def dataframe(tracks_artist):\n",
    "    tracks_data_list = []\n",
    "    for track in tracks_artist['tracks']:\n",
    "        tracks_data = tracks(track)\n",
    "        tracks_data_list.append(tracks_data)\n",
    "    return pd.DataFrame(tracks_data_list)\n",
    "def series(tracks_data):\n",
    "    return pd.DataFrame(tracks_data)\n",
    "def normalize(df):    \n",
    "    df[\"available_markets\"] = round(df[\"available_markets\"]/(np.maximum(78, df[\"available_markets\"].max()))*5)/5\n",
    "    df[\"popularity\"] = df[\"popularity\"]/100\n",
    "    df[\"tempo\"] = round(df[\"tempo\"]/20).astype(int)\n",
    "    df[\"loudness\"] = round((df[\"loudness\"]+60)/10).astype(int)\n",
    "    df[\"loudness\"][df[\"loudness\"]<0] == 0\n",
    "    df[\"duration_ms\"] = round(df[\"duration_ms\"]/60000).astype(int)\n",
    "    df = df.rename(columns = {\"duration_ms\": \"duration_min\"})\n",
    "    df[\"explicit\"] = df[\"explicit\"].apply(lambda x: x*(1))\n",
    "    return df\n",
    "def save_file(df):    \n",
    "        if(not(os.path.exists(\"tracks_df.csv\"))):\n",
    "            Path(\"tracks_df.csv\").touch()\n",
    "        if(os.path.getsize(\"tracks_df.csv\") != 0):\n",
    "            existing_df = pd.read_csv(\"tracks_df.csv\")\n",
    "            existing_df = existing_df.append(df, ignore_index=True)\n",
    "            existing_df.drop_duplicates(subset = \"id\", keep = \"last\", inplace = True)\n",
    "            existing_df.to_csv(\"tracks_df.csv\", mode = \"w\", index = None)\n",
    "            return existing_df\n",
    "        else:\n",
    "            df.to_csv(\"tracks_df.csv\", mode = \"w\", index = None)\n",
    "            return df\n",
    "def auto_save(artist_list):\n",
    "    for artist_id in artist_list:\n",
    "        df = spotify.artist_top_tracks(artist_id)\n",
    "        df = dataframe(df)\n",
    "        df = normalize(df)\n",
    "        df = save_file(df)\n",
    "        return df\n",
    "def others(df):\n",
    "    df_timeline = df.set_index([\"release_date\"]).sort_values(by = [\"release_date\"], ascending = True)\n",
    "    listreal = []\n",
    "    listrealid = []\n",
    "    for i, ser in enumerate(df_timeline[\"artists\"]):\n",
    "        if(type(ser) == str):\n",
    "            strser = ser.split(\",\")\n",
    "            strser[0] = strser[0].replace(\"[\", \"\")\n",
    "            strser[-1] = strser[-1].replace(\"]\", \"\")\n",
    "            strser = [serstr.replace(\"\\'\", \"\").strip() for serstr in strser]\n",
    "            ser = strser\n",
    "        if(len(ser) != 1):\n",
    "            listrealid.append(i)\n",
    "        for artist in ser:\n",
    "            df_timeline = df_timeline.copy()\n",
    "            df_timeline.iat[i, np.array([int(x == \"artists\") for x in df_timeline.columns]).argmax()] = artist\n",
    "            listreal.append(df_timeline.iloc[i])\n",
    "    dfreal = pd.DataFrame(listreal)\n",
    "    collab1 = pd.Series(np.ones(len(dfreal.index), dtype = int), index = dfreal.index, name = \"collab\")\n",
    "    dfreal = pd.concat([dfreal, collab1], axis = 1)\n",
    "    df_timeline.drop(df_timeline.loc[df_timeline['id'].isin(listrealid)].index, inplace=True)\n",
    "    df_timeline.drop_duplicates(subset=\"id\", keep=\"last\", inplace=True)\n",
    "    collab0 = pd.Series(np.zeros(len(df_timeline.index), dtype = int), index = df_timeline.index, name = \"collab\")\n",
    "    df_timeline = pd.concat([df_timeline, collab0], axis = 1)\n",
    "    df_timeline = df_timeline.append(dfreal)\n",
    "    df_timeline[\"artists\"] = df_timeline[\"artists\"].astype(str)\n",
    "    agg = {}\n",
    "    for key in ['danceability', 'energy', 'speechiness',\n",
    "       'acousticness', 'instrumentalness', 'liveness', 'valence', 'popularity', 'duration_min', 'collab']:\n",
    "        agg.update({key: np.mean})\n",
    "    for key in ['key', 'mode', 'explicit', 'available_markets', 'tempo',\n",
    "       'loudness']:\n",
    "        agg.update({key: lambda x: x.value_counts().index[0]}) \n",
    "    df_artists = df_timeline.groupby('artists').agg(agg)\n",
    "    df_artists = df_artists.sort_values(by = [\"popularity\"], ascending = False)\n",
    "    track_count = pd.Series(df_timeline[\"artists\"].value_counts(), name = \"track_count\")\n",
    "    track_count.reindex(df_artists.index)\n",
    "    df_artists = pd.concat([df_artists, track_count], axis = 1)            \n",
    "    df_artists.to_csv(\"artists_df.csv\", mode = \"w\")\n",
    "    df_timeline.to_csv(\"timeline_df.csv\", mode = \"w\")\n",
    "def create_dfs(artist_list):\n",
    "    if(type(artist_list) == str):\n",
    "        artist = artist_list\n",
    "        artist_list = []\n",
    "        artist_list.append(artist)\n",
    "    df_tracks = auto_save(artist_list)\n",
    "    others(df_tracks)\n",
    "def query_artist(string = \"--\"):\n",
    "    for i, artist in enumerate(df_artists.index):\n",
    "        if(len(re.findall(\"(.*?)\"+string+\"(.*?)\", \"\".join(artist))) != 0):\n",
    "            print(\"Name: \", df_artists.index[i], \n",
    "                  \"\\nSingles: \", int(df_artists[\"track_count\"][i]*(1-df_artists[\"collab\"][i])),\n",
    "                  \"\\nCollabs: \", int(df_artists[\"track_count\"][i]*df_artists[\"collab\"][i]))\n",
    "def search_artist(string = \"--\"):\n",
    "    results = spotify.search(q='artist:'+string, type='artist')\n",
    "    items = results['artists']['items']\n",
    "    if len(items) > 0:\n",
    "        artist = items[0]\n",
    "        df_artist = pd.Series(artist)\n",
    "        df_artist = df_artist[df_artist.index.isin(['name', 'followers', 'genres', 'id', 'popularity'])]\n",
    "        df_artist[\"followers\"] = df_artist[\"followers\"]['total']\n",
    "        return df_artist\n",
    "def copy_paste_links(list_copy_paste):\n",
    "    list_ready = [mat.replace(\"spotify:artist:\", \"\") for mat in list_copy_paste]\n",
    "    for ready in list_ready:\n",
    "        if(len(spotify.artist_top_tracks(ready)[\"tracks\"]) == 1):\n",
    "            print([x[\"name\"] for x in spotify.artist_top_tracks(ready)[\"artists\"]], \"has/have very few songs\")\n",
    "        else:\n",
    "            create_dfs(ready)"
   ]
  },
  {
   "cell_type": "code",
   "execution_count": 154,
   "metadata": {},
   "outputs": [
    {
     "data": {
      "text/plain": [
       "Index(['Unnamed: 0', 'danceability', 'energy', 'key', 'mode', 'speechiness',\n",
       "       'acousticness', 'instrumentalness', 'liveness', 'valence', 'popularity',\n",
       "       'explicit', 'id', 'name', 'artists', 'available_markets', 'tempo',\n",
       "       'loudness', 'duration_min', 'collab'],\n",
       "      dtype='object')"
      ]
     },
     "execution_count": 154,
     "metadata": {},
     "output_type": "execute_result"
    }
   ],
   "source": [
    "pd.read_csv(\"timeline_df.csv\").columns"
   ]
  },
  {
   "cell_type": "code",
   "execution_count": 146,
   "metadata": {},
   "outputs": [
    {
     "data": {
      "text/plain": [
       "followers                                                 77648\n",
       "genres        [alternative country, cosmic american, country...\n",
       "id                                       1KA3WXYMPLxomNuoE22LYd\n",
       "name                                               Gram Parsons\n",
       "popularity                                                   50\n",
       "dtype: object"
      ]
     },
     "execution_count": 146,
     "metadata": {},
     "output_type": "execute_result"
    }
   ],
   "source": [
    "#--- Search for the artist ---\n",
    "search_artist(\"Gram Parsons\")"
   ]
  },
  {
   "cell_type": "code",
   "execution_count": 205,
   "metadata": {},
   "outputs": [],
   "source": [
    "#--- Copy-Paste Spotify URI of the artist ---\n",
    "copy_paste_links([\"1KA3WXYMPLxomNuoE22LYd\"])"
   ]
  },
  {
   "cell_type": "code",
   "execution_count": 206,
   "metadata": {},
   "outputs": [
    {
     "name": "stdout",
     "output_type": "stream",
     "text": [
      "Name:  Gram Parsons \n",
      "Singles:  9 \n",
      "Collabs:  10\n"
     ]
    }
   ],
   "source": [
    "#--- Find the artist from the database --- \n",
    "df_artists = pd.read_csv(\"artists_df.csv\")\n",
    "df_artists.set_index(df_artists.columns[0], inplace = True)\n",
    "df_artists.rename_axis(\"artist\", axis = 0, inplace = True)\n",
    "query_artist(\"Gram\")"
   ]
  },
  {
   "cell_type": "code",
   "execution_count": 88,
   "metadata": {
    "jupyter": {
     "source_hidden": true
    }
   },
   "outputs": [],
   "source": [
    "import urllib.request\n",
    "response = urllib.request.urlopen(\"https://en.wikipedia.org/wiki/Rolling_Stone%27s_100_Greatest_Artists_of_All_Time\")\n",
    "html = response.read()\n",
    "text = html.decode()\n",
    "from bs4 import BeautifulSoup\n",
    "soup = BeautifulSoup(text, 'html.parser')\n",
    "artists = []\n",
    "artists_list = soup.table.find_all(\"td\")\n",
    "for artist in artists_list:\n",
    "    artists.append(re.findall('title=\\\"(.*?)\\\"', str(artist)))\n",
    "artists.remove([])\n",
    "artists = [x[0] for x in artists]"
   ]
  },
  {
   "cell_type": "code",
   "execution_count": 90,
   "metadata": {
    "jupyter": {
     "source_hidden": true
    }
   },
   "outputs": [],
   "source": [
    "links = [\"spotify:artist:3WrFJ7ztbogyGnTHbHJFl2\", \"spotify:artist:74ASZWbe4lXaubB36ztrGX\", \"spotify:artist:43ZHCT0cAZBISjO8DG9PnE\", \"spotify:artist:22bE4uQ6baNwSHPVcDxLCe\", \"spotify:artist:293zczrfYafIItmnmM3coR\", \"spotify:artist:776Uo845nYHJpNaStv1Ds4\", \"spotify:artist:7GaxyUddsPok8BuhxN6OUW\", \"spotify:artist:4xls23Ye9WR9yy3yYMpAMm\", \"spotify:artist:7nwUJBm0HE4ZxD3f5cy5ok\", \"spotify:artist:1eYhYunlNJlDoQhtYBvPsi\", \"spotify:artist:2QsynagSdAqZj3U9HgDzjD\", \"spotify:artist:3oDbviiivRWhXwIE8hxkVV\", \"spotify:artist:3wYyutjgII8LJVVOLrGI0D\", \"spotify:artist:36QJpDe2go2KgaRleHCDTp\", \"spotify:artist:7guDJrEfX3qb6FEbdPA5qi\", \"spotify:artist:6hnWRPzGGKiapVX1UCdEAC\", \"spotify:artist:4y6J8jwRAwO4dssiSmN91R\", \"spotify:artist:3koiLjNrgRTNbOwViDipeA\", \"spotify:artist:1nJvji2KIlWSseXRSlNYsC\", \"spotify:artist:2bmixwMZXlkl2sbIbOfviq\", \"spotify:artist:60df5JBRRPcnSpsIMxxwQm\", \"spotify:artist:51Blml2LZPmy7TTiAg47vQ\", \"spotify:artist:3eqjTLE0HfPfh78zjh6TqT\", \"spotify:artist:2zyz0VJqrDXeFDIyrfVXSo\", \"spotify:artist:09C0xjtosNAIXP36wTnWxd\", \"spotify:artist:1co4F2pPNH8JjTutZkmgSm\", \"spotify:artist:6olE6TJLqED3rqDCT0FyPh\", \"spotify:artist:5a2EaR3hamoenG9rDuVn8j\", \"spotify:artist:3RGLhK1IP9jnYFH4BRFJBS\", \"spotify:artist:67ea9eGLXYMsO2eYQRui3w\", \"spotify:artist:6kACVPfCOnqzgfEF5ryl0x\", \"spotify:artist:0h9smro0z3HqUbD94jotU8\", \"spotify:artist:6TqQLejnHXMGr7KcegxUND\", \"spotify:artist:4ACplpEqD6JIVgKrafauzs\", \"spotify:artist:6v8FB84lnmJs434UJf2Mrm\", \"spotify:artist:3fMbdgg4jU18AjLCKBhRSm\", \"spotify:artist:6tbjWDEIzxoDsBA1FuhfPW\", \"spotify:artist:0JDkhL4rjiPNEp92jAgJnS\", \"spotify:artist:4x1nvY2FN8jxqAFA0DA02H\", \"spotify:artist:0oSGxfWSnnOXhD2fKuz2Gy\", \"spotify:artist:70cRZdQywnSFp9pnc2WTCE\", \"spotify:artist:22WZ7M8sxp5THdruNY3gXt\", \"spotify:artist:44NX2ffIYHr6D4n7RaZF7A\", \"spotify:artist:5m8H6zSadhu1j9Yi04VLqD\", \"spotify:artist:6Mo9PoU6svvhgEum7wh2Nd\", \"spotify:artist:1PCZpxHJz7WAMF8EEq8bfc\", \"spotify:artist:4NgfOZCL9Ml67xzM0xzIvC\", \"spotify:artist:0vYkHhJ48Bs3jWcvZXvOrP\", \"spotify:artist:3CQIn7N5CuRDP8wEI7FiDA\", \"spotify:artist:3PhoLpVuITZKcymswpck5b\", \"spotify:artist:4vpDg7Y7fU982Ds30zawDA\", \"spotify:artist:0Wxy5Qka8BN9crcFkiAxSR\", \"spotify:artist:0k17h0D3J5VfsdmQ1iZtE9\", \"spotify:artist:4wQ3PyMz3WwJGI5uEqHUVR\", \"spotify:artist:1dfeR4HaWDbWqFHLkxsg1d\", \"spotify:artist:6PAt558ZEZl0DmdXlnjMgD\", \"spotify:artist:6DPYiyq5kWVQS4RGwxzPC7\", \"spotify:artist:4TMHGUX5WI7OOm53PqSDAT\", \"spotify:artist:450o9jw6AtiQlQkHCdH6Ru\", \"spotify:artist:7Ey4PD4MYsKc5I2dolUwbH\", \"spotify:artist:1u7kkVrr14iBvrpYnZILJR\", \"spotify:artist:2nRbxpnBMMbtMBWH5QdqH2\", \"spotify:artist:5hW4L92KnC6dX9t7tYM4Ve\", \"spotify:artist:1zuJe6b1roixEKMOtyrEak\", \"spotify:artist:2ye2Wgw4gimLv2eAKyk1NB\", \"spotify:artist:0iOVhN3tnSvgDbcg25JoJb\", \"spotify:artist:5hW4L92KnC6dX9t7tYM4Ve\", \"spotify:artist:3jVMgT4X7YeuYE4aludcmE\", \"spotify:artist:3dkbV4qihUeMsqN4vBGg93\", \"spotify:artist:1SQRv42e4PjEYfPhS0Tk9E\", \"spotify:artist:74oJ4qxwOZvX6oSsu1DGnw\", \"spotify:artist:3RwQ26hR2tJtA8F9p2n7jG\", \"spotify:artist:4VnomLtKTm9Ahe1tZfmZju\", \"spotify:artist:5hIClg6noTaCzMu2s5wp4f\", \"spotify:artist:5NGO30tJxFlKixkPSgXcFE\", \"spotify:artist:6ra4GIOgCZQZMOaUECftGN\", \"spotify:artist:711MCceyCBcFnzjGY4Q7Un\", \"spotify:artist:4Z8W4fKeB5YxbusRsdQVPb\", \"spotify:artist:1FClsNYBUoNFtGgzeG74dW\", \"spotify:artist:0ECwFtbIWEVNwjlrfc6xoL\", \"spotify:artist:0x83OBqixqdCHnStP5VMcn\", \"spotify:artist:03r4iKL2g2442PT9n2UKsx\", \"spotify:artist:4BFMTELQyWJU1SwqcXMBm3\", \"spotify:artist:4Tfb5u63OB7hJFylDlsZTE\", \"spotify:artist:2BGRfQgtzikz1pzAD0kaEn\", \"spotify:artist:1FqqOl9itIUpXr4jZPIVoT\", \"spotify:artist:7dGJo4pcD2V6oG8kP0tJRR\", \"spotify:artist:3IYUhFvPQItj6xySrBmZkd\", \"spotify:artist:4EnEZVjo3w1cwcQYePccay\", \"spotify:artist:0vn7UBvSQECKJm2817Yf1P\", \"spotify:artist:5M52tdBnJaKSvOpJGz8mfZ\", \"spotify:artist:1ZwdS5xdxEREPySFridCfh\", \"spotify:artist:1KA3WXYMPLxomNuoE22LYd\", \"spotify:artist:0kbYTNQb4Pb1rPbbaF0pT4\", \"spotify:artist:3nFkdlSjzX9mRTtwJOzDYB\", \"spotify:artist:2lxX1ivRYp26soIavdG9bX\", \"spotify:artist:6GI52t8N5F02MxU0g5U69P\", \"spotify:artist:73sSFVlM6pkweLXE8qw1OS\", \"spotify:artist:2UZMlIwnkgAEDBsw1Rejkn\", \"spotify:artist:3qm84nBOXUEQ2vnTfUTTFC\", \"spotify:artist:2vDV0T8sxx2ENnKXds75e5\", \"spotify:artist:0X380XXQSNBYuleKzav5UO\", \"spotify:artist:4MVyzYMgTwdP7Z49wAZHx0\", \"spotify:artist:1Pe5hlKMCTULjosqZ6KanP\", \"spotify:artist:3MdG05syQeRYPPcClLaUGl\", \"spotify:artist:4KWTAlx2RvbpseOGMEmROg\", \"spotify:artist:3fhOTtm0LBJ3Ojn4hIljLo\", \"spotify:artist:2AV6XDIs32ofIJhkkDevjm\", \"spotify:artist:5hIClg6noTaCzMu2s5wp4f\", \"spotify:artist:2x9SpqnPi8rlE9pjHBwmSC\"]"
   ]
  },
  {
   "cell_type": "code",
   "execution_count": 91,
   "metadata": {
    "jupyter": {
     "source_hidden": true
    }
   },
   "outputs": [],
   "source": [
    "links = list(set(links))"
   ]
  },
  {
   "cell_type": "code",
   "execution_count": null,
   "metadata": {
    "jupyter": {
     "source_hidden": true
    }
   },
   "outputs": [],
   "source": [
    " 'Gram Parsons',\n",
    " 'Miles Davis',\n",
    " 'Jay-Z',\n",
    " 'The Yardbirds',\n",
    " 'Carlos Santana',\n",
    " 'Ricky Nelson',\n",
    " 'Tom Petty',\n",
    " \"Guns N' Roses\",\n",
    " \"Booker T. &amp; the M.G.'s\",\n",
    " 'Nine Inch Nails',\n",
    " 'Lynyrd Skynyrd',\n",
    " 'Martha &amp; The Vandellas',\n",
    " 'Diana Ross and the Supremes',\n",
    " 'Diana Ross and the Supremes',\n",
    " 'R.E.M.',\n",
    " 'Roxy Music',\n",
    " 'Curtis Mayfield',\n",
    " 'Curtis Mayfield',\n",
    " 'Carl Perkins',\n",
    " 'Talking Heads']\n",
    "['The Beatles',\n",
    " 'Bob Dylan',\n",
    " 'Elvis Presley',\n",
    " 'The Rolling Stones',\n",
    " 'Chuck Berry',\n",
    " 'Jimi Hendrix',\n",
    " 'James Brown',\n",
    " 'Little Richard',\n",
    " 'Aretha Franklin',\n",
    " 'Ray Charles',\n",
    " 'Bob Marley',\n",
    " 'Beach Boys',\n",
    " 'Buddy Holly',\n",
    " 'Led Zeppelin',\n",
    " 'Stevie Wonder',\n",
    " 'Sam Cooke',\n",
    " 'Muddy Waters',\n",
    " 'Marvin Gaye',\n",
    " 'The Velvet Underground',\n",
    " 'Bo Diddley',\n",
    " 'Otis Redding',\n",
    " 'U2',\n",
    " 'Bruce Springsteen',\n",
    " 'Jerry Lee Lewis',\n",
    " 'Fats Domino',\n",
    " 'Ramones',\n",
    " 'Nirvana (band)',\n",
    " 'Prince (musician)',\n",
    " 'Prince (musician)',\n",
    " 'The Clash',\n",
    " 'The Who',\n",
    " 'The Clash',\n",
    " 'Nirvana (band)',\n",
    " 'Johnny Cash',\n",
    " 'Smokey Robinson &amp; The Miracles',\n",
    " 'The Everly Brothers',\n",
    " 'Neil Young',\n",
    " 'Michael Jackson',\n",
    "  'Madonna (entertainer)',\n",
    " 'Roy Orbison',\n",
    " 'John Lennon',\n",
    " 'David Bowie',\n",
    " 'Simon &amp; Garfunkel',\n",
    " 'The Doors',\n",
    " 'Van Morrison',\n",
    " 'Sly &amp; the Family Stone',\n",
    " 'Public Enemy (band)',\n",
    " 'The Byrds',\n",
    " 'Janis Joplin',\n",
    " 'Patti Smith',\n",
    " 'Run-D.M.C.',\n",
    " 'Elton John',\n",
    " 'The Band',\n",
    " \"Howlin' Wolf\",\n",
    " 'Pink Floyd',\n",
    " 'The Allman Brothers Band',\n",
    " 'Queen (band)',\n",
    " 'Eric Clapton',\n",
    " 'The Allman Brothers Band',\n",
    " 'Dr. Dre',\n",
    " \"Howlin' Wolf\",\n",
    " 'Grateful Dead',\n",
    " 'Eric Clapton',\n",
    " 'Parliament-Funkadelic',\n",
    " 'Dr. Dre',\n",
    " 'Aerosmith',\n",
    " 'Grateful Dead',\n",
    " 'Sex Pistols',\n",
    " 'Parliament-Funkadelic',\n",
    " 'Louis Jordan',\n",
    " 'Aerosmith',\n",
    " 'Joni Mitchell',\n",
    " 'The Sex Pistols',\n",
    " 'Tina Turner',\n",
    " 'Metallica',\n",
    " 'Etta James',\n",
    " 'Joni Mitchell',\n",
    " 'Phil Spector',\n",
    " 'Tina Turner',\n",
    " 'The Kinks',\n",
    " 'Phil Spector',\n",
    " 'Al Green',\n",
    " 'The Kinks',\n",
    " 'Cream (band)',\n",
    " 'Al Green',\n",
    " 'The Temptations',\n",
    " 'Cream (band)',\n",
    " 'Jackie Wilson',\n",
    " 'The Temptations',\n",
    " 'Carl Perkins',\n",
    " 'Jackie Wilson',\n",
    " 'The Police',\n",
    " 'Frank Zappa',\n",
    " 'AC/DC',\n",
    " 'Radiohead',\n",
    " 'Hank Williams',\n",
    " 'The Eagles',\n",
    " 'The Shirelles',\n",
    " 'Beastie Boys',\n",
    " 'The Stooges',\n",
    " 'The Four Tops',\n",
    " 'Elvis Costello',\n",
    " 'The Drifters',\n",
    " 'Eminem',\n",
    " 'Creedence Clearwater Revival',\n",
    " 'N.W.A.',\n",
    " 'Eminem',\n",
    " 'James Taylor',\n",
    " 'Black Sabbath',\n",
    " '2Pac',"
   ]
  }
 ],
 "metadata": {
  "kernelspec": {
   "display_name": "Python 3",
   "language": "python",
   "name": "python3"
  },
  "language_info": {
   "codemirror_mode": {
    "name": "ipython",
    "version": 3
   },
   "file_extension": ".py",
   "mimetype": "text/x-python",
   "name": "python",
   "nbconvert_exporter": "python",
   "pygments_lexer": "ipython3",
   "version": "3.8.2"
  }
 },
 "nbformat": 4,
 "nbformat_minor": 4
}
