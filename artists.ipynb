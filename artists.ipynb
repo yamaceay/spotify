{
 "cells": [
  {
   "cell_type": "markdown",
   "metadata": {},
   "source": [
    "# ARTIST ANALYSIS: SUCCESS RATES, TIMELINES, METRICS"
   ]
  },
  {
   "cell_type": "code",
   "execution_count": 111,
   "metadata": {},
   "outputs": [],
   "source": [
    "import pandas as pd\n",
    "df_artists = pd.read_csv(\"artists_df.csv\")\n",
    "df_timeline = pd.read_csv(\"timeline_df.csv\")\n",
    "df_artists = df_artists.set_index(\"Unnamed: 0\").rename_axis(\"name\", axis = 0)\n",
    "df_timeline = df_timeline.set_index(\"Unnamed: 0\").rename_axis(\"release_date\", axis = 0)"
   ]
  }
 ],
 "metadata": {
  "kernelspec": {
   "display_name": "Python 3",
   "language": "python",
   "name": "python3"
  },
  "language_info": {
   "codemirror_mode": {
    "name": "ipython",
    "version": 3
   },
   "file_extension": ".py",
   "mimetype": "text/x-python",
   "name": "python",
   "nbconvert_exporter": "python",
   "pygments_lexer": "ipython3",
   "version": "3.8.2"
  }
 },
 "nbformat": 4,
 "nbformat_minor": 4
}
