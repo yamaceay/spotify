{
 "cells": [
  {
   "cell_type": "code",
   "execution_count": 7,
   "metadata": {},
   "outputs": [],
   "source": [
    "import pandas as pd\n",
    "import numpy as np\n",
    "import re\n",
    "def col(df, colname = \"artist_name\"):\n",
    "    return np.array([int(x == colname) for x in df.columns]).argmax()\n",
    "def search_artist(string = \"--\"):\n",
    "    results = spotify.search(q='artist:'+string, type='artist')\n",
    "    items = results['artists']['items']\n",
    "    if len(items) > 0:\n",
    "        artist = items[0]\n",
    "        df_artist = pd.Series(artist)\n",
    "        df_artist = df_artist[df_artist.index.isin(['name', 'followers', 'genres', 'id', 'popularity'])]\n",
    "        df_artist[\"followers\"] = df_artist[\"followers\"]['total']\n",
    "        return df_artist\n",
    "def query_artists(df, lists = [], full = False):\n",
    "    return pd.concat([query_artist(artists, string = name) for name in lists], axis = 0)\n",
    "def query_artist(df, string = \"--\", full = False):\n",
    "    lists = []\n",
    "    for i, artist in enumerate(df[\"artist_name\"]):\n",
    "        if(len(re.findall(\"(.*?)\"+string+\"(.*?)\", \"\".join(artist))) != 0):\n",
    "            if(full):\n",
    "                lists.append(df.iloc[i])\n",
    "            else:\n",
    "                lists.append(df.iloc[i, [col(df, \"artist_name\"), col(df, \"genres\")]])\n",
    "    if(full): \n",
    "        return pd.DataFrame(lists, columns = df.columns)\n",
    "    else:\n",
    "        return pd.DataFrame(lists, columns = [\"artist_name\", \"genres\"])\n",
    "import ast\n",
    "def perfect_eval(string):\n",
    "    try:\n",
    "        return ast.literal_eval(string)\n",
    "    except:\n",
    "        return []\n",
    "def rate_artist(df, dc):\n",
    "    df_1 = query_artists(df, lists = dc.index).reset_index()\n",
    "    df_2 = pd.concat([df_1, pd.Series(dc.values, name = \"rate\")], axis = 1)\n",
    "    df_3 = df_2.copy()\n",
    "    for index, row in df_2.iterrows():\n",
    "        for genre in row['genres']:\n",
    "            df_3.at[index, genre] = 1\n",
    "    df_3 = df_3.fillna(0)\n",
    "    df_user = df_3[\"rate\"]\n",
    "    df_art = df_3.drop([\"index\", \"artist_name\", \"genres\", \"rate\"], axis = 1)\n",
    "    df_profile = df_art.transpose().dot(df_user)\n",
    "    return df_profile\n",
    "def select_artist(artists, dfx):\n",
    "    listid = []\n",
    "    for index, row in artists.iterrows():\n",
    "        for genre in row[\"genres\"]:\n",
    "            if(genre in dfx.index):\n",
    "                listid.append(index)\n",
    "    listid = list(set(listid))\n",
    "    df_select = artists.iloc[listid, [col(artists, \"artist_name\"), col(artists, \"genres\")]]\n",
    "    df_select_2 = df_select.copy()\n",
    "    for index, row in df_select.iterrows():\n",
    "        for genre in row['genres']:\n",
    "            df_select_2.at[index, genre] = 1\n",
    "    df_select_2 = df_select_2.fillna(0)\n",
    "    df_select_2 = df_select_2[dfx.index]\n",
    "    return df_select_2\n",
    "def recommend_artist(artists, name_rate):\n",
    "    dc = pd.Series(name_rate)\n",
    "    dfx = rate_artist(artists, dc)\n",
    "    df_select = select_artist(artists, dfx)\n",
    "    df_rec = ((df_select*dfx).sum(axis=1))/(dfx.sum())\n",
    "    sery_rec = pd.Series(df_rec, name = \"rec\").sort_values(ascending = False)\n",
    "    sery_rec_2 = artists.iloc[sery_rec.index, [col(artists, \"artist_name\")]]\n",
    "    sery_rec_res = pd.concat([sery_rec, sery_rec_2], axis = 1)\n",
    "    sery_res = sery_rec_res[~sery_rec_res[\"artist_name\"].isin(dc.index)].head(10)\n",
    "    sery_res = sery_res.reset_index()\n",
    "    return sery_res\n",
    "def pretty_recommend_artist(artists, name_rate):\n",
    "    df = recommend_artist(artists, name_rate)\n",
    "    for index, row in df.iterrows():\n",
    "        print(\"Number \", index, \": \", row[\"artist_name\"], \" matching \", row[\"rec\"]*100, \"%.\")\n",
    "artists = pd.read_csv(\"spotify_dataset_artist(2).csv\")\n",
    "artists.drop([\"Unnamed: 0\"], axis = 1, inplace = True)\n",
    "artists[\"genres\"] = [perfect_eval(genre) for genre in artists[\"genres\"]]"
   ]
  },
  {
   "cell_type": "code",
   "execution_count": 30,
   "metadata": {},
   "outputs": [
    {
     "data": {
      "text/html": [
       "<div>\n",
       "<style scoped>\n",
       "    .dataframe tbody tr th:only-of-type {\n",
       "        vertical-align: middle;\n",
       "    }\n",
       "\n",
       "    .dataframe tbody tr th {\n",
       "        vertical-align: top;\n",
       "    }\n",
       "\n",
       "    .dataframe thead th {\n",
       "        text-align: right;\n",
       "    }\n",
       "</style>\n",
       "<table border=\"1\" class=\"dataframe\">\n",
       "  <thead>\n",
       "    <tr style=\"text-align: right;\">\n",
       "      <th></th>\n",
       "      <th>artist_name</th>\n",
       "      <th>genres</th>\n",
       "    </tr>\n",
       "  </thead>\n",
       "  <tbody>\n",
       "    <tr>\n",
       "      <th>5274</th>\n",
       "      <td>Cem Adrian</td>\n",
       "      <td>[turkish pop, turkish rock, turkish singer-son...</td>\n",
       "    </tr>\n",
       "    <tr>\n",
       "      <th>5275</th>\n",
       "      <td>Cem Pilevneli</td>\n",
       "      <td>[turkish alternative]</td>\n",
       "    </tr>\n",
       "    <tr>\n",
       "      <th>5276</th>\n",
       "      <td>Cemetery Sun</td>\n",
       "      <td>[modern alternative rock, modern rock]</td>\n",
       "    </tr>\n",
       "    <tr>\n",
       "      <th>5277</th>\n",
       "      <td>Cemre Emin</td>\n",
       "      <td>[traprun]</td>\n",
       "    </tr>\n",
       "    <tr>\n",
       "      <th>28798</th>\n",
       "      <td>Summer Cem</td>\n",
       "      <td>[german hip hop]</td>\n",
       "    </tr>\n",
       "  </tbody>\n",
       "</table>\n",
       "</div>"
      ],
      "text/plain": [
       "         artist_name                                             genres\n",
       "5274      Cem Adrian  [turkish pop, turkish rock, turkish singer-son...\n",
       "5275   Cem Pilevneli                              [turkish alternative]\n",
       "5276    Cemetery Sun             [modern alternative rock, modern rock]\n",
       "5277      Cemre Emin                                          [traprun]\n",
       "28798     Summer Cem                                   [german hip hop]"
      ]
     },
     "execution_count": 30,
     "metadata": {},
     "output_type": "execute_result"
    }
   ],
   "source": [
    "query_artist(artists, string = \"Cem\", full = False)"
   ]
  },
  {
   "cell_type": "code",
   "execution_count": 32,
   "metadata": {},
   "outputs": [
    {
     "name": "stdout",
     "output_type": "stream",
     "text": [
      "Number  0 :  Darin  matching  34.375 %.\n",
      "Number  1 :  Le P  matching  34.375 %.\n",
      "Number  2 :  Ceylan Ertem  matching  29.166666666666668 %.\n",
      "Number  3 :  emre aydın  matching  29.166666666666668 %.\n",
      "Number  4 :  Rafet El Roman  matching  29.166666666666668 %.\n",
      "Number  5 :  Dean Martin  matching  28.125 %.\n",
      "Number  6 :  Tony Bennett  matching  28.125 %.\n",
      "Number  7 :  Bing Crosby  matching  28.125 %.\n",
      "Number  8 :  Herb Alpert  matching  28.125 %.\n",
      "Number  9 :  Brenda Lee  matching  28.125 %.\n"
     ]
    }
   ],
   "source": [
    "pretty_recommend_artist(artists, name_rate)"
   ]
  },
  {
   "cell_type": "code",
   "execution_count": 31,
   "metadata": {},
   "outputs": [],
   "source": [
    "name_rate = {\n",
    "    \"Frank Sinatra\": 9,\n",
    "    \"Müslüm Gürses\": 7,\n",
    "    \"Michael Jackson\": 6,\n",
    "    \"Céline Dion\": 8,\n",
    "    \"Cem Adrian\": 7\n",
    "}"
   ]
  },
  {
   "cell_type": "code",
   "execution_count": null,
   "metadata": {},
   "outputs": [],
   "source": []
  }
 ],
 "metadata": {
  "kernelspec": {
   "display_name": "Python 3",
   "language": "python",
   "name": "python3"
  },
  "language_info": {
   "codemirror_mode": {
    "name": "ipython",
    "version": 3
   },
   "file_extension": ".py",
   "mimetype": "text/x-python",
   "name": "python",
   "nbconvert_exporter": "python",
   "pygments_lexer": "ipython3",
   "version": "3.8.2"
  }
 },
 "nbformat": 4,
 "nbformat_minor": 4
}
